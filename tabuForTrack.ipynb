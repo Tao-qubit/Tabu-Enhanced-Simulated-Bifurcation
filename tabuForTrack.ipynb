{
 "cells": [
  {
   "cell_type": "code",
   "execution_count": 141,
   "metadata": {},
   "outputs": [
    {
     "data": {
      "text/plain": [
       "((109498, 109498),\n",
       " (109498, 1),\n",
       " scipy.sparse._arrays.csr_array,\n",
       " 50.75927752871023)"
      ]
     },
     "execution_count": 141,
     "metadata": {},
     "output_type": "execute_result"
    }
   ],
   "source": [
    "import pandas as pd\n",
    "import numpy as np\n",
    "# np.random.seed(666)\n",
    "from scipy.sparse import coo_array, csr_array,csr_matrix\n",
    "import tSB\n",
    "import pickle\n",
    "\n",
    "file_name = \"tracking/qubo_ev1004_1p0.pickle\"\n",
    "objects = []\n",
    "\n",
    "with (open(file_name, \"rb\")) as f:\n",
    "    while True:\n",
    "        try:\n",
    "            objects.append(pickle.load(f))\n",
    "        except EOFError:\n",
    "            break\n",
    "#print(objects)\n",
    "qubo = objects\n",
    "\n",
    "index_mapping = {}\n",
    "custom_index = 0\n",
    "\n",
    "# Iterate over the QUBO dictionary and create the index mapping\n",
    "for pair in qubo[0]:\n",
    "    for index in pair:\n",
    "        if index not in index_mapping:\n",
    "            index_mapping[index] = custom_index\n",
    "            #print('index', custom_index, 'pair', pair[0])\n",
    "            custom_index += 1\n",
    "\n",
    "\n",
    "row = []\n",
    "col = []\n",
    "data = []\n",
    "vector = np.zeros(custom_index)\n",
    "for pair, value in qubo[0].items():\n",
    "    index1 = index_mapping[pair[0]]\n",
    "    index2 = index_mapping[pair[1]]\n",
    "    if index1 == index2:\n",
    "        vector[index1] = value\n",
    "    else:\n",
    "        row.append(index1)\n",
    "        col.append(index2)\n",
    "        data.append(value)\n",
    "\n",
    "data = np.array(data)\n",
    "row = np.array(row)\n",
    "col = np.array(col)\n",
    "matrix_ori = coo_array((data, (row, col)), shape=(custom_index, custom_index))\n",
    "matrix = (matrix_ori + matrix_ori.T) / 2\n",
    "# matrix_ori\n",
    "\n",
    "\n",
    "################ building model ######################\n",
    "\n",
    "J = matrix / 4\n",
    "h = vector / 2 + matrix.sum(axis=0) / 2\n",
    "offset = matrix.sum() / 4 + vector.sum()/2\n",
    "J = 2 * J\n",
    "h =  h[:, np.newaxis]\n",
    "scale_factor = np.max([np.abs(J).max(), np.abs(h).max()])\n",
    "\n",
    "J.shape,h.shape,type(J),scale_factor\n"
   ]
  },
  {
   "cell_type": "code",
   "execution_count": null,
   "metadata": {},
   "outputs": [],
   "source": [
    "# solving Ising problem\n",
    "s = tSB.SB(A=-J,h=-h,tabu=None,xi=None,n_iter=4000,batch_size=1,dt=1.,num_tabu=2)\n",
    "s.update_b()\n"
   ]
  },
  {
   "cell_type": "code",
   "execution_count": 146,
   "metadata": {},
   "outputs": [
    {
     "data": {
      "text/plain": [
       "array([-449203.03966766])"
      ]
     },
     "execution_count": 146,
     "metadata": {},
     "output_type": "execute_result"
    }
   ],
   "source": [
    "0.5 * np.sum(J.dot(np.sign(s.x)) * np.sign(s.x), axis=0)+h[:,0].T.dot(np.sign(s.x))"
   ]
  },
  {
   "cell_type": "code",
   "execution_count": null,
   "metadata": {},
   "outputs": [
    {
     "data": {
      "text/plain": [
       "1.0069431652124656"
      ]
     },
     "execution_count": 148,
     "metadata": {},
     "output_type": "execute_result"
    }
   ],
   "source": [
    "s1 = tSB.SB(A=-J,h=-h,tabu=None,xi=None,n_iter=300,batch_size=10,dt=1.,num_tabu=2)\n",
    "s1.update_d()\n",
    "tabu_sample = np.sign(s1.x).copy()\n",
    "s1.xi"
   ]
  },
  {
   "cell_type": "code",
   "execution_count": 163,
   "metadata": {},
   "outputs": [],
   "source": [
    "s1 = tSB.SB(A=-J,h=-h,tabu=0.01*tabu_sample,xi=1,n_iter=2700,batch_size=1,dt=1.,num_tabu=2)\n",
    "s1.update_d()\n"
   ]
  },
  {
   "cell_type": "code",
   "execution_count": 164,
   "metadata": {},
   "outputs": [
    {
     "name": "stdout",
     "output_type": "stream",
     "text": [
      "bSB minimum energy:-449203.03966765874\n",
      "-449203.03966765874\n",
      "TEbSB minimum energy:-449356.5395088129\n",
      "-449356.5395088129\n"
     ]
    }
   ],
   "source": [
    "sample = np.sign(s.x).copy()\n",
    "energy = (0.5 * np.sum(J.dot(sample) * sample, axis=0)+h.T.dot(sample))[0,:]\n",
    "opt_index = np.argmin(energy)\n",
    "opt_energy = energy[opt_index]\n",
    "opt_sample = sample[:, opt_index]\n",
    "\n",
    "sample1 = np.sign(s1.x).copy()\n",
    "energy1 = (0.5 * np.sum(J.dot(sample1) * sample1, axis=0)+h.T.dot(sample1))[0,:]\n",
    "opt_index1 = np.argmin(energy1)\n",
    "opt_energy1 = energy1[opt_index1]\n",
    "opt_sample1 = sample1[:, opt_index1]\n",
    "\n",
    "\n",
    "print(f'bSB minimum energy:{opt_energy}')\n",
    "print(energy.mean())\n",
    "# print(f'optimal solution:{opt_sample}')\n",
    "print(f'TEbSB minimum energy:{opt_energy1}')\n",
    "print(energy1.mean())"
   ]
  },
  {
   "cell_type": "code",
   "execution_count": null,
   "metadata": {},
   "outputs": [
    {
     "data": {
      "text/plain": [
       "(1, 10)"
      ]
     },
     "execution_count": 36,
     "metadata": {},
     "output_type": "execute_result"
    }
   ],
   "source": []
  },
  {
   "cell_type": "code",
   "execution_count": null,
   "metadata": {},
   "outputs": [],
   "source": []
  }
 ],
 "metadata": {
  "kernelspec": {
   "display_name": "Python 3",
   "language": "python",
   "name": "python3"
  },
  "language_info": {
   "codemirror_mode": {
    "name": "ipython",
    "version": 3
   },
   "file_extension": ".py",
   "mimetype": "text/x-python",
   "name": "python",
   "nbconvert_exporter": "python",
   "pygments_lexer": "ipython3",
   "version": "3.11.4"
  }
 },
 "nbformat": 4,
 "nbformat_minor": 2
}
